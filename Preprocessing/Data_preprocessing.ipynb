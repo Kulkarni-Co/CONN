{
  "cells": [
    {
      "cell_type": "code",
      "execution_count": null,
      "metadata": {
        "id": "XhKMwFZNS1Pe"
      },
      "outputs": [],
      "source": [
        "import numpy as np\n",
        "import pandas as pd\n",
        "import rasterio\n",
        "import earthpy.plot as ep\n",
        "from sklearn.preprocessing import StandardScaler\n",
        "import matplotlib\n",
        "import matplotlib.pyplot as plt\n",
        "from matplotlib.colors import from_levels_and_colors"
      ]
    },
    {
      "cell_type": "markdown",
      "metadata": {
        "id": "V1HurTvW2V6F"
      },
      "source": [
        "## Loading the data"
      ]
    },
    {
      "cell_type": "code",
      "execution_count": null,
      "metadata": {
        "id": "memUPoY9fsST"
      },
      "outputs": [],
      "source": [
        "from google.colab import drive\n",
        "drive.mount('/content/drive')\n"
      ]
    },
    {
      "cell_type": "code",
      "execution_count": null,
      "metadata": {
        "id": "Gj_rN_TQozDI"
      },
      "outputs": [],
      "source": [
        "year = input(\"Year: \")\n",
        "area = input(\"Area: \")"
      ]
    },
    {
      "cell_type": "code",
      "execution_count": null,
      "metadata": {
        "id": "TS9-kF71gIxH"
      },
      "outputs": [],
      "source": [
        "data_path = f'/content/drive/MyDrive/DL - data/raw data/{area}_{year}.csv'\n",
        "img_path = f'/content/drive/MyDrive/DL - data/raw data/{area}_{year}.tif'"
      ]
    },
    {
      "cell_type": "code",
      "execution_count": null,
      "metadata": {
        "id": "OKzOpwgxgyGQ"
      },
      "outputs": [],
      "source": [
        "df = pd.read_csv(data_path)\n",
        "df.head()"
      ]
    },
    {
      "cell_type": "code",
      "execution_count": null,
      "metadata": {
        "id": "D-Q-8lhF6u49"
      },
      "outputs": [],
      "source": [
        "df.columns"
      ]
    },
    {
      "cell_type": "markdown",
      "metadata": {
        "id": "SHf_SbOvTsNP"
      },
      "source": [
        "## Visualization"
      ]
    },
    {
      "cell_type": "code",
      "execution_count": null,
      "metadata": {
        "id": "GJrFNP3rTvmD"
      },
      "outputs": [],
      "source": [
        "# Load image\n",
        "image = rasterio.open(img_path)\n",
        "print(image)\n",
        "bandNum = image.count\n",
        "height = image.height\n",
        "width = image.width\n",
        "crs = image.crs\n",
        "transform = image.transform\n",
        "shape = (height, width)\n",
        "\n",
        "image_vis = []\n",
        "for x in [4, 3, 2]:\n",
        "  image_vis.append(image.read(x))\n",
        "image_vis = np.stack(image_vis)\n",
        "\n",
        "plot_size = (8, 8)\n",
        "ep.plot_rgb(\n",
        "  image_vis,\n",
        "  figsize=plot_size,\n",
        "  stretch=True,\n",
        ")"
      ]
    },
    {
      "cell_type": "markdown",
      "metadata": {
        "id": "2QzS2XpC6iDW"
      },
      "source": [
        "## Processing the data"
      ]
    },
    {
      "cell_type": "markdown",
      "metadata": {
        "id": "jp7ce8Oc6Z9s"
      },
      "source": [
        "### We will first drop the columns that are of no relevance for training a model"
      ]
    },
    {
      "cell_type": "code",
      "execution_count": null,
      "metadata": {
        "id": "3DNz4eLZngJb"
      },
      "outputs": [],
      "source": [
        "import copy"
      ]
    },
    {
      "cell_type": "code",
      "execution_count": null,
      "metadata": {
        "id": "IZubARFInUxT"
      },
      "outputs": [],
      "source": [
        "df_copy = copy.deepcopy(df)"
      ]
    },
    {
      "cell_type": "code",
      "execution_count": null,
      "metadata": {
        "id": "6znMhwtf527b"
      },
      "outputs": [],
      "source": [
        "df = df_copy.drop(columns=['system:index','.geo'])"
      ]
    },
    {
      "cell_type": "code",
      "execution_count": null,
      "metadata": {
        "id": "bsqBB7J5h9VX"
      },
      "outputs": [],
      "source": [
        "df = df_copy.drop(columns=['Class'])"
      ]
    },
    {
      "cell_type": "code",
      "execution_count": null,
      "metadata": {
        "id": "QAH2k2U7iEI9"
      },
      "outputs": [],
      "source": [
        "# Create subplots\n",
        "fig, axes = plt.subplots(5, 4, figsize=(20, 4 * 5))\n",
        "axes = axes.flatten()  # Flatten the 2D array of axes for easy indexing\n",
        "\n",
        "# Loop through each feature and plot a histogram\n",
        "\n",
        "for i, column in enumerate(df_copy.columns):\n",
        "    axes[i].hist(df_copy[column], bins=100, color='blue', alpha=0.7)\n",
        "    axes[i].set_title(f\"Band - {column}\")\n",
        "    axes[i].set_xlabel(\"Values\")\n",
        "    axes[i].set_ylabel(\"Frequency\")\n",
        "\n",
        "# Hide any unused subplots (if there are fewer than 20 features)\n",
        "for j in range(i + 1, 5 * 4):\n",
        "    axes[j].axis('off')  # Turn off axes for unused subplots\n",
        "\n",
        "# Adjust layout for better spacing\n",
        "plt.tight_layout()\n",
        "plt.savefig(f'/content/drive/MyDrive/Results/CNN/band_frequency_visualization.png', dpi=600)\n",
        "plt.show()"
      ]
    },
    {
      "cell_type": "markdown",
      "metadata": {
        "id": "O7T404wmMRzW"
      },
      "source": [
        "### Splitting the dataset into train and test based on the sample column"
      ]
    },
    {
      "cell_type": "code",
      "execution_count": null,
      "metadata": {
        "id": "uRagv19Rlpe8"
      },
      "outputs": [],
      "source": [
        "print(df.drop(columns=[\"sample\"]).mean().round(3))"
      ]
    },
    {
      "cell_type": "code",
      "execution_count": null,
      "metadata": {
        "id": "VkfBcpoQmJRH"
      },
      "outputs": [],
      "source": [
        "print(df.drop(columns=[\"sample\"]).std().round(3))"
      ]
    },
    {
      "cell_type": "code",
      "execution_count": null,
      "metadata": {
        "id": "tInDdSRV57Mr"
      },
      "outputs": [],
      "source": [
        "train_df = df[df['sample'] == 'train']  # DataFrame for \"train\"\n",
        "test_df = df[df['sample'] == 'test']    # DataFrame for \"test\""
      ]
    },
    {
      "cell_type": "code",
      "execution_count": null,
      "metadata": {
        "id": "nxDtr19cMdOU"
      },
      "outputs": [],
      "source": [
        "train_df.head()"
      ]
    },
    {
      "cell_type": "code",
      "execution_count": null,
      "metadata": {
        "id": "Oag_7kZmMgi6"
      },
      "outputs": [],
      "source": [
        "test_df.head()"
      ]
    },
    {
      "cell_type": "markdown",
      "metadata": {
        "id": "HKBWx_xDNlkQ"
      },
      "source": [
        "### Drop the sample column"
      ]
    },
    {
      "cell_type": "code",
      "execution_count": null,
      "metadata": {
        "id": "KitNTMmWNrw3"
      },
      "outputs": [],
      "source": [
        "train_df = train_df.drop(columns=[\"sample\"])\n",
        "test_df = test_df.drop(columns=[\"sample\"])"
      ]
    },
    {
      "cell_type": "code",
      "execution_count": null,
      "metadata": {
        "id": "FDywObTjN2BP"
      },
      "outputs": [],
      "source": [
        "train_df.columns"
      ]
    },
    {
      "cell_type": "code",
      "execution_count": null,
      "metadata": {
        "id": "dQXfnjHkOBpn"
      },
      "outputs": [],
      "source": [
        "test_df.columns"
      ]
    },
    {
      "cell_type": "markdown",
      "metadata": {
        "id": "AlvhPr2wPOxW"
      },
      "source": [
        "### Normalization"
      ]
    },
    {
      "cell_type": "code",
      "execution_count": null,
      "metadata": {
        "id": "mLZ1ExjKORoG"
      },
      "outputs": [],
      "source": [
        "columns_to_standardize = ['DVI','SR_B2_contrast', 'SR_B2_diss',\n",
        "       'SR_B2_mean', 'SR_B2_var', 'SR_B3_contrast', 'SR_B3_diss', 'SR_B3_mean',\n",
        "       'SR_B3_var', 'SR_B4_contrast', 'SR_B4_diss', 'SR_B4_mean', 'SR_B4_var',\n",
        "       'SR_B5_contrast', 'SR_B5_diss', 'SR_B5_mean', 'SR_B5_var']"
      ]
    },
    {
      "cell_type": "code",
      "execution_count": null,
      "metadata": {
        "id": "gyxHxu2pUeMB"
      },
      "outputs": [],
      "source": [
        "# Initialize the scaler\n",
        "scaler = StandardScaler()"
      ]
    },
    {
      "cell_type": "code",
      "execution_count": null,
      "metadata": {
        "id": "HtTw7t0cUgXh"
      },
      "outputs": [],
      "source": [
        "# Scale both training and testing data\n",
        "train_df[columns_to_standardize] = scaler.fit_transform(train_df[columns_to_standardize])\n",
        "test_df[columns_to_standardize] = scaler.transform(test_df[columns_to_standardize])"
      ]
    },
    {
      "cell_type": "code",
      "execution_count": null,
      "metadata": {
        "id": "Sg46G5QoVQZi"
      },
      "outputs": [],
      "source": [
        "train_df.head()"
      ]
    },
    {
      "cell_type": "markdown",
      "metadata": {
        "id": "0MNBUVXBXqQx"
      },
      "source": [
        "## Saving the training and testing data"
      ]
    },
    {
      "cell_type": "code",
      "execution_count": null,
      "metadata": {
        "id": "HRzZblABW7EO"
      },
      "outputs": [],
      "source": [
        "train_df.to_csv(f'/content/drive/MyDrive/processed_data/training_processed_{area}_{year}.csv')\n",
        "test_df.to_csv(f'/content/drive/MyDrive/processed_data/testing_processed_{area}_{year}.csv')"
      ]
    }
  ],
  "metadata": {
    "colab": {
      "collapsed_sections": [
        "SHf_SbOvTsNP"
      ],
      "provenance": []
    },
    "kernelspec": {
      "display_name": "Python 3",
      "name": "python3"
    },
    "language_info": {
      "name": "python"
    }
  },
  "nbformat": 4,
  "nbformat_minor": 0
}
